{
  "nbformat": 4,
  "nbformat_minor": 0,
  "metadata": {
    "colab": {
      "provenance": [],
      "collapsed_sections": [
        "ffy5SCOeU8vx",
        "58MDZ0uisz4d"
      ],
      "include_colab_link": true
    },
    "kernelspec": {
      "name": "python3",
      "display_name": "Python 3"
    },
    "language_info": {
      "name": "python"
    }
  },
  "cells": [
    {
      "cell_type": "markdown",
      "metadata": {
        "id": "view-in-github",
        "colab_type": "text"
      },
      "source": [
        "<a href=\"https://colab.research.google.com/github/cindy1404hsieh/Ciencia-de-Datos/blob/main/random_forest.ipynb\" target=\"_parent\"><img src=\"https://colab.research.google.com/assets/colab-badge.svg\" alt=\"Open In Colab\"/></a>"
      ]
    },
    {
      "cell_type": "markdown",
      "metadata": {
        "id": "ffy5SCOeU8vx"
      },
      "source": [
        "# Importacion de librerias"
      ]
    },
    {
      "cell_type": "code",
      "execution_count": null,
      "metadata": {
        "id": "Fzjmg5u-2TYC"
      },
      "outputs": [],
      "source": [
        "import pandas as pd\n",
        "import numpy as np\n",
        "\n",
        "from sklearn.metrics import mean_squared_error\n",
        "\n",
        "from sklearn.model_selection import RandomizedSearchCV, TimeSeriesSplit\n",
        "from sklearn.ensemble import RandomForestRegressor\n",
        "\n",
        "import matplotlib.pyplot as plt\n",
        "import seaborn as sns"
      ]
    },
    {
      "cell_type": "markdown",
      "source": [
        "# Traer dataframes"
      ],
      "metadata": {
        "id": "58MDZ0uisz4d"
      }
    },
    {
      "cell_type": "code",
      "execution_count": null,
      "metadata": {
        "colab": {
          "base_uri": "https://localhost:8080/"
        },
        "id": "yPVZ7F8E2TYD",
        "outputId": "dff585df-aa1c-4bbd-846d-db5b2c4243ec"
      },
      "outputs": [
        {
          "output_type": "stream",
          "name": "stdout",
          "text": [
            "Drive already mounted at /content/drive; to attempt to forcibly remount, call drive.mount(\"/content/drive\", force_remount=True).\n"
          ]
        }
      ],
      "source": [
        "from google.colab import drive\n",
        "drive.mount(\"/content/drive\")"
      ]
    },
    {
      "cell_type": "code",
      "execution_count": null,
      "metadata": {
        "id": "fxsyeXfH2TYD"
      },
      "outputs": [],
      "source": [
        "X_train = pd.read_csv('/content/drive/MyDrive/Colab_Notebooks/X_train.csv')\n",
        "y_train = pd.read_csv('/content/drive/MyDrive/Colab_Notebooks/y_train.csv')\n",
        "X_validation = pd.read_csv('/content/drive/MyDrive/Colab_Notebooks/X_validation.csv')\n",
        "y_validation = pd.read_csv('/content/drive/MyDrive/Colab_Notebooks/y_validation.csv')\n",
        "X_test = pd.read_csv('/content/drive/MyDrive/Colab_Notebooks/X_test.csv')"
      ]
    },
    {
      "cell_type": "code",
      "source": [
        "test = pd.read_csv('/content/drive/MyDrive/Colab_Notebooks/test.csv')"
      ],
      "metadata": {
        "id": "c_MbU-tGLIUT"
      },
      "execution_count": null,
      "outputs": []
    },
    {
      "cell_type": "markdown",
      "metadata": {
        "id": "eMtMLuSS9j7I"
      },
      "source": [
        "# Random Forest con busqueda de hiperparametros"
      ]
    },
    {
      "cell_type": "code",
      "execution_count": null,
      "metadata": {
        "colab": {
          "base_uri": "https://localhost:8080/"
        },
        "id": "le0XRwZQ7kxy",
        "outputId": "8d59f217-d673-470a-a11f-661835c9c29c"
      },
      "outputs": [
        {
          "output_type": "stream",
          "name": "stdout",
          "text": [
            "Fitting 5 folds for each of 5 candidates, totalling 25 fits\n",
            "[CV 1/5] END bootstrap=True, max_depth=None, min_samples_leaf=1, min_samples_split=5, n_estimators=10;, score=-3.589 total time=  30.7s\n",
            "[CV 2/5] END bootstrap=True, max_depth=None, min_samples_leaf=1, min_samples_split=5, n_estimators=10;, score=-4.202 total time= 1.1min\n",
            "[CV 3/5] END bootstrap=True, max_depth=None, min_samples_leaf=1, min_samples_split=5, n_estimators=10;, score=-3.602 total time= 1.8min\n",
            "[CV 4/5] END bootstrap=True, max_depth=None, min_samples_leaf=1, min_samples_split=5, n_estimators=10;, score=-3.790 total time= 2.5min\n",
            "[CV 5/5] END bootstrap=True, max_depth=None, min_samples_leaf=1, min_samples_split=5, n_estimators=10;, score=-3.743 total time= 3.3min\n",
            "[CV 1/5] END bootstrap=True, max_depth=10, min_samples_leaf=1, min_samples_split=5, n_estimators=10;, score=-3.465 total time=  17.4s\n",
            "[CV 2/5] END bootstrap=True, max_depth=10, min_samples_leaf=1, min_samples_split=5, n_estimators=10;, score=-4.047 total time=  37.7s\n",
            "[CV 3/5] END bootstrap=True, max_depth=10, min_samples_leaf=1, min_samples_split=5, n_estimators=10;, score=-3.691 total time=  57.5s\n",
            "[CV 4/5] END bootstrap=True, max_depth=10, min_samples_leaf=1, min_samples_split=5, n_estimators=10;, score=-3.719 total time= 1.3min\n",
            "[CV 5/5] END bootstrap=True, max_depth=10, min_samples_leaf=1, min_samples_split=5, n_estimators=10;, score=-3.804 total time= 1.7min\n",
            "[CV 1/5] END bootstrap=True, max_depth=5, min_samples_leaf=2, min_samples_split=5, n_estimators=15;, score=-3.697 total time=  13.3s\n",
            "[CV 2/5] END bootstrap=True, max_depth=5, min_samples_leaf=2, min_samples_split=5, n_estimators=15;, score=-4.270 total time=  29.6s\n",
            "[CV 3/5] END bootstrap=True, max_depth=5, min_samples_leaf=2, min_samples_split=5, n_estimators=15;, score=-3.928 total time=  48.0s\n",
            "[CV 4/5] END bootstrap=True, max_depth=5, min_samples_leaf=2, min_samples_split=5, n_estimators=15;, score=-3.982 total time= 1.1min\n",
            "[CV 5/5] END bootstrap=True, max_depth=5, min_samples_leaf=2, min_samples_split=5, n_estimators=15;, score=-4.136 total time= 1.4min\n",
            "[CV 1/5] END bootstrap=True, max_depth=5, min_samples_leaf=1, min_samples_split=5, n_estimators=5;, score=-3.705 total time=   4.2s\n",
            "[CV 2/5] END bootstrap=True, max_depth=5, min_samples_leaf=1, min_samples_split=5, n_estimators=5;, score=-4.265 total time=  10.2s\n",
            "[CV 3/5] END bootstrap=True, max_depth=5, min_samples_leaf=1, min_samples_split=5, n_estimators=5;, score=-3.926 total time=  17.1s\n",
            "[CV 4/5] END bootstrap=True, max_depth=5, min_samples_leaf=1, min_samples_split=5, n_estimators=5;, score=-3.979 total time=  22.5s\n",
            "[CV 5/5] END bootstrap=True, max_depth=5, min_samples_leaf=1, min_samples_split=5, n_estimators=5;, score=-4.135 total time=  28.3s\n",
            "[CV 1/5] END bootstrap=True, max_depth=5, min_samples_leaf=2, min_samples_split=10, n_estimators=15;, score=-3.697 total time=  13.4s\n",
            "[CV 2/5] END bootstrap=True, max_depth=5, min_samples_leaf=2, min_samples_split=10, n_estimators=15;, score=-4.270 total time=  29.2s\n",
            "[CV 3/5] END bootstrap=True, max_depth=5, min_samples_leaf=2, min_samples_split=10, n_estimators=15;, score=-3.928 total time=  46.3s\n",
            "[CV 4/5] END bootstrap=True, max_depth=5, min_samples_leaf=2, min_samples_split=10, n_estimators=15;, score=-3.982 total time= 1.1min\n",
            "[CV 5/5] END bootstrap=True, max_depth=5, min_samples_leaf=2, min_samples_split=10, n_estimators=15;, score=-4.136 total time= 1.4min\n",
            "Random Forest RMSE: 3.600107\n"
          ]
        }
      ],
      "source": [
        "tscv = TimeSeriesSplit(n_splits=5)\n",
        "rf_model = RandomForestRegressor(random_state=4)\n",
        "rf_params = {\n",
        "    'n_estimators': [5, 10, 15],\n",
        "    'max_depth': [None, 5, 10],\n",
        "    'min_samples_split': [5, 10],\n",
        "    'min_samples_leaf': [1, 2],\n",
        "    'bootstrap': [True]\n",
        "}\n",
        "\n",
        "rf_random = RandomizedSearchCV(estimator=rf_model,\n",
        "                               param_distributions=rf_params,\n",
        "                               n_iter=5,\n",
        "                               scoring='neg_root_mean_squared_error',\n",
        "                               cv=tscv,\n",
        "                               verbose=5,\n",
        "                               n_jobs=1,\n",
        "                               random_state=50)\n",
        "\n",
        "\n",
        "rf_random.fit(X_train, y_train.to_numpy().ravel())\n",
        "\n",
        "\n",
        "best_rf = rf_random.best_estimator_\n",
        "\n",
        "rf_pred = best_rf.predict(X_validation)\n",
        "rf_rmse = np.sqrt(mean_squared_error(y_validation, rf_pred))\n",
        "\n",
        "print(\"Random Forest RMSE: %f\" % (rf_rmse))"
      ]
    },
    {
      "cell_type": "code",
      "source": [
        "rf_pred = best_rf.predict(X_train)\n",
        "rf_rmse = np.sqrt(mean_squared_error(y_train, rf_pred))\n",
        "\n",
        "print(\"RMSE set de entrenamiento: %f\" % (rf_rmse))"
      ],
      "metadata": {
        "id": "Lqhwk3KSXTIa",
        "colab": {
          "base_uri": "https://localhost:8080/"
        },
        "outputId": "e5422e20-d5dd-4b8a-d649-461cc9cda603"
      },
      "execution_count": null,
      "outputs": [
        {
          "output_type": "stream",
          "name": "stdout",
          "text": [
            "RMSE set de entrenamiento: 3.452478\n"
          ]
        }
      ]
    },
    {
      "cell_type": "code",
      "source": [
        "rf_importance = best_rf.feature_importances_\n",
        "rf_features = X_train.columns\n",
        "rf_importance_df = pd.DataFrame({'Feature': rf_features, 'Importance': rf_importance})\n",
        "rf_importance_df = rf_importance_df.sort_values(by='Importance', ascending=False)\n",
        "\n",
        "plt.figure(figsize=(10, 6))\n",
        "sns.barplot(x='Importance', y='Feature', data=rf_importance_df)\n",
        "plt.title('Random Forest Regressor Feature Importance')\n",
        "plt.show()"
      ],
      "metadata": {
        "id": "ISJsHa8x05zO",
        "colab": {
          "base_uri": "https://localhost:8080/",
          "height": 564
        },
        "outputId": "ac23d499-cc4c-46a4-b5b5-bc1feddfa5ba"
      },
      "execution_count": null,
      "outputs": [
        {
          "output_type": "display_data",
          "data": {
            "text/plain": [
              "<Figure size 1000x600 with 1 Axes>"
            ],
            "image/png": "[encoded data removed]"
          },
          "metadata": {}
        }
      ]
    },
    {
      "cell_type": "code",
      "source": [
        "y_test = np.ravel(best_rf.predict(X_test).clip(0,20))"
      ],
      "metadata": {
        "id": "Skde2zOqK91k"
      },
      "execution_count": null,
      "outputs": []
    },
    {
      "cell_type": "code",
      "source": [
        "submission = pd.DataFrame({\n",
        "    \"ID\": test['ID'],\n",
        "    \"item_cnt_month\": y_test\n",
        "})\n",
        "\n",
        "submission"
      ],
      "metadata": {
        "colab": {
          "base_uri": "https://localhost:8080/",
          "height": 424
        },
        "id": "jvSIfZtZKwfR",
        "outputId": "4a87cdf0-7145-4486-d663-c1d6ab3bfa03"
      },
      "execution_count": null,
      "outputs": [
        {
          "output_type": "execute_result",
          "data": {
            "text/plain": [
              "            ID  item_cnt_month\n",
              "0            0        1.438930\n",
              "1            1        1.036283\n",
              "2            2        1.451173\n",
              "3            3        1.451173\n",
              "4            4        1.036283\n",
              "...        ...             ...\n",
              "214195  214195        1.974442\n",
              "214196  214196        1.670179\n",
              "214197  214197        1.535722\n",
              "214198  214198        1.036283\n",
              "214199  214199        4.222634\n",
              "\n",
              "[214200 rows x 2 columns]"
            ],
            "text/html": [
              "\n",
              "  <div id=\"df-1d8f2924-fe49-48bd-aaf6-53a8bff52aa2\" class=\"colab-df-container\">\n",
              "    <div>\n",
              "<style scoped>\n",
              "    .dataframe tbody tr th:only-of-type {\n",
              "        vertical-align: middle;\n",
              "    }\n",
              "\n",
              "    .dataframe tbody tr th {\n",
              "        vertical-align: top;\n",
              "    }\n",
              "\n",
              "    .dataframe thead th {\n",
              "        text-align: right;\n",
              "    }\n",
              "</style>\n",
              "<table border=\"1\" class=\"dataframe\">\n",
              "  <thead>\n",
              "    <tr style=\"text-align: right;\">\n",
              "      <th></th>\n",
              "      <th>ID</th>\n",
              "      <th>item_cnt_month</th>\n",
              "    </tr>\n",
              "  </thead>\n",
              "  <tbody>\n",
              "    <tr>\n",
              "      <th>0</th>\n",
              "      <td>0</td>\n",
              "      <td>1.438930</td>\n",
              "    </tr>\n",
              "    <tr>\n",
              "      <th>1</th>\n",
              "      <td>1</td>\n",
              "      <td>1.036283</td>\n",
              "    </tr>\n",
              "    <tr>\n",
              "      <th>2</th>\n",
              "      <td>2</td>\n",
              "      <td>1.451173</td>\n",
              "    </tr>\n",
              "    <tr>\n",
              "      <th>3</th>\n",
              "      <td>3</td>\n",
              "      <td>1.451173</td>\n",
              "    </tr>\n",
              "    <tr>\n",
              "      <th>4</th>\n",
              "      <td>4</td>\n",
              "      <td>1.036283</td>\n",
              "    </tr>\n",
              "    <tr>\n",
              "      <th>...</th>\n",
              "      <td>...</td>\n",
              "      <td>...</td>\n",
              "    </tr>\n",
              "    <tr>\n",
              "      <th>214195</th>\n",
              "      <td>214195</td>\n",
              "      <td>1.974442</td>\n",
              "    </tr>\n",
              "    <tr>\n",
              "      <th>214196</th>\n",
              "      <td>214196</td>\n",
              "      <td>1.670179</td>\n",
              "    </tr>\n",
              "    <tr>\n",
              "      <th>214197</th>\n",
              "      <td>214197</td>\n",
              "      <td>1.535722</td>\n",
              "    </tr>\n",
              "    <tr>\n",
              "      <th>214198</th>\n",
              "      <td>214198</td>\n",
              "      <td>1.036283</td>\n",
              "    </tr>\n",
              "    <tr>\n",
              "      <th>214199</th>\n",
              "      <td>214199</td>\n",
              "      <td>4.222634</td>\n",
              "    </tr>\n",
              "  </tbody>\n",
              "</table>\n",
              "<p>214200 rows × 2 columns</p>\n",
              "</div>\n",
              "    <div class=\"colab-df-buttons\">\n",
              "\n",
              "  <div class=\"colab-df-container\">\n",
              "    <button class=\"colab-df-convert\" onclick=\"convertToInteractive('df-1d8f2924-fe49-48bd-aaf6-53a8bff52aa2')\"\n",
              "            title=\"Convert this dataframe to an interactive table.\"\n",
              "            style=\"display:none;\">\n",
              "\n",
              "  <svg xmlns=\"http://www.w3.org/2000/svg\" height=\"24px\" viewBox=\"0 -960 960 960\">\n",
              "    <path d=\"M120-120v-720h720v720H120Zm60-500h600v-160H180v160Zm220 220h160v-160H400v160Zm0 220h160v-160H400v160ZM180-400h160v-160H180v160Zm440 0h160v-160H620v160ZM180-180h160v-160H180v160Zm440 0h160v-160H620v160Z\"/>\n",
              "  </svg>\n",
              "    </button>\n",
              "\n",
              "  <style>\n",
              "    .colab-df-container {\n",
              "      display:flex;\n",
              "      gap: 12px;\n",
              "    }\n",
              "\n",
              "    .colab-df-convert {\n",
              "      background-color: #E8F0FE;\n",
              "      border: none;\n",
              "      border-radius: 50%;\n",
              "      cursor: pointer;\n",
              "      display: none;\n",
              "      fill: #1967D2;\n",
              "      height: 32px;\n",
              "      padding: 0 0 0 0;\n",
              "      width: 32px;\n",
              "    }\n",
              "\n",
              "    .colab-df-convert:hover {\n",
              "      background-color: #E2EBFA;\n",
              "      box-shadow: 0px 1px 2px rgba(60, 64, 67, 0.3), 0px 1px 3px 1px rgba(60, 64, 67, 0.15);\n",
              "      fill: #174EA6;\n",
              "    }\n",
              "\n",
              "    .colab-df-buttons div {\n",
              "      margin-bottom: 4px;\n",
              "    }\n",
              "\n",
              "    [theme=dark] .colab-df-convert {\n",
              "      background-color: #3B4455;\n",
              "      fill: #D2E3FC;\n",
              "    }\n",
              "\n",
              "    [theme=dark] .colab-df-convert:hover {\n",
              "      background-color: #434B5C;\n",
              "      box-shadow: 0px 1px 3px 1px rgba(0, 0, 0, 0.15);\n",
              "      filter: drop-shadow(0px 1px 2px rgba(0, 0, 0, 0.3));\n",
              "      fill: #FFFFFF;\n",
              "    }\n",
              "  </style>\n",
              "\n",
              "    <script>\n",
              "      const buttonEl =\n",
              "        document.querySelector('#df-1d8f2924-fe49-48bd-aaf6-53a8bff52aa2 button.colab-df-convert');\n",
              "      buttonEl.style.display =\n",
              "        google.colab.kernel.accessAllowed ? 'block' : 'none';\n",
              "\n",
              "      async function convertToInteractive(key) {\n",
              "        const element = document.querySelector('#df-1d8f2924-fe49-48bd-aaf6-53a8bff52aa2');\n",
              "        const dataTable =\n",
              "          await google.colab.kernel.invokeFunction('convertToInteractive',\n",
              "                                                    [key], {});\n",
              "        if (!dataTable) return;\n",
              "\n",
              "        const docLinkHtml = 'Like what you see? Visit the ' +\n",
              "          '<a target=\"_blank\" href=https://colab.research.google.com/notebooks/data_table.ipynb>data table notebook</a>'\n",
              "          + ' to learn more about interactive tables.';\n",
              "        element.innerHTML = '';\n",
              "        dataTable['output_type'] = 'display_data';\n",
              "        await google.colab.output.renderOutput(dataTable, element);\n",
              "        const docLink = document.createElement('div');\n",
              "        docLink.innerHTML = docLinkHtml;\n",
              "        element.appendChild(docLink);\n",
              "      }\n",
              "    </script>\n",
              "  </div>\n",
              "\n",
              "\n",
              "<div id=\"df-12d3f76c-5fa6-440d-a52e-f94b806b1431\">\n",
              "  <button class=\"colab-df-quickchart\" onclick=\"quickchart('df-12d3f76c-5fa6-440d-a52e-f94b806b1431')\"\n",
              "            title=\"Suggest charts\"\n",
              "            style=\"display:none;\">\n",
              "\n",
              "<svg xmlns=\"http://www.w3.org/2000/svg\" height=\"24px\"viewBox=\"0 0 24 24\"\n",
              "     width=\"24px\">\n",
              "    <g>\n",
              "        <path d=\"M19 3H5c-1.1 0-2 .9-2 2v14c0 1.1.9 2 2 2h14c1.1 0 2-.9 2-2V5c0-1.1-.9-2-2-2zM9 17H7v-7h2v7zm4 0h-2V7h2v10zm4 0h-2v-4h2v4z\"/>\n",
              "    </g>\n",
              "</svg>\n",
              "  </button>\n",
              "\n",
              "<style>\n",
              "  .colab-df-quickchart {\n",
              "      --bg-color: #E8F0FE;\n",
              "      --fill-color: #1967D2;\n",
              "      --hover-bg-color: #E2EBFA;\n",
              "      --hover-fill-color: #174EA6;\n",
              "      --disabled-fill-color: #AAA;\n",
              "      --disabled-bg-color: #DDD;\n",
              "  }\n",
              "\n",
              "  [theme=dark] .colab-df-quickchart {\n",
              "      --bg-color: #3B4455;\n",
              "      --fill-color: #D2E3FC;\n",
              "      --hover-bg-color: #434B5C;\n",
              "      --hover-fill-color: #FFFFFF;\n",
              "      --disabled-bg-color: #3B4455;\n",
              "      --disabled-fill-color: #666;\n",
              "  }\n",
              "\n",
              "  .colab-df-quickchart {\n",
              "    background-color: var(--bg-color);\n",
              "    border: none;\n",
              "    border-radius: 50%;\n",
              "    cursor: pointer;\n",
              "    display: none;\n",
              "    fill: var(--fill-color);\n",
              "    height: 32px;\n",
              "    padding: 0;\n",
              "    width: 32px;\n",
              "  }\n",
              "\n",
              "  .colab-df-quickchart:hover {\n",
              "    background-color: var(--hover-bg-color);\n",
              "    box-shadow: 0 1px 2px rgba(60, 64, 67, 0.3), 0 1px 3px 1px rgba(60, 64, 67, 0.15);\n",
              "    fill: var(--button-hover-fill-color);\n",
              "  }\n",
              "\n",
              "  .colab-df-quickchart-complete:disabled,\n",
              "  .colab-df-quickchart-complete:disabled:hover {\n",
              "    background-color: var(--disabled-bg-color);\n",
              "    fill: var(--disabled-fill-color);\n",
              "    box-shadow: none;\n",
              "  }\n",
              "\n",
              "  .colab-df-spinner {\n",
              "    border: 2px solid var(--fill-color);\n",
              "    border-color: transparent;\n",
              "    border-bottom-color: var(--fill-color);\n",
              "    animation:\n",
              "      spin 1s steps(1) infinite;\n",
              "  }\n",
              "\n",
              "  @keyframes spin {\n",
              "    0% {\n",
              "      border-color: transparent;\n",
              "      border-bottom-color: var(--fill-color);\n",
              "      border-left-color: var(--fill-color);\n",
              "    }\n",
              "    20% {\n",
              "      border-color: transparent;\n",
              "      border-left-color: var(--fill-color);\n",
              "      border-top-color: var(--fill-color);\n",
              "    }\n",
              "    30% {\n",
              "      border-color: transparent;\n",
              "      border-left-color: var(--fill-color);\n",
              "      border-top-color: var(--fill-color);\n",
              "      border-right-color: var(--fill-color);\n",
              "    }\n",
              "    40% {\n",
              "      border-color: transparent;\n",
              "      border-right-color: var(--fill-color);\n",
              "      border-top-color: var(--fill-color);\n",
              "    }\n",
              "    60% {\n",
              "      border-color: transparent;\n",
              "      border-right-color: var(--fill-color);\n",
              "    }\n",
              "    80% {\n",
              "      border-color: transparent;\n",
              "      border-right-color: var(--fill-color);\n",
              "      border-bottom-color: var(--fill-color);\n",
              "    }\n",
              "    90% {\n",
              "      border-color: transparent;\n",
              "      border-bottom-color: var(--fill-color);\n",
              "    }\n",
              "  }\n",
              "</style>\n",
              "\n",
              "  <script>\n",
              "    async function quickchart(key) {\n",
              "      const quickchartButtonEl =\n",
              "        document.querySelector('#' + key + ' button');\n",
              "      quickchartButtonEl.disabled = true;  // To prevent multiple clicks.\n",
              "      quickchartButtonEl.classList.add('colab-df-spinner');\n",
              "      try {\n",
              "        const charts = await google.colab.kernel.invokeFunction(\n",
              "            'suggestCharts', [key], {});\n",
              "      } catch (error) {\n",
              "        console.error('Error during call to suggestCharts:', error);\n",
              "      }\n",
              "      quickchartButtonEl.classList.remove('colab-df-spinner');\n",
              "      quickchartButtonEl.classList.add('colab-df-quickchart-complete');\n",
              "    }\n",
              "    (() => {\n",
              "      let quickchartButtonEl =\n",
              "        document.querySelector('#df-12d3f76c-5fa6-440d-a52e-f94b806b1431 button');\n",
              "      quickchartButtonEl.style.display =\n",
              "        google.colab.kernel.accessAllowed ? 'block' : 'none';\n",
              "    })();\n",
              "  </script>\n",
              "</div>\n",
              "\n",
              "  <div id=\"id_69643df8-66d6-4ce0-bb2a-6eb67e0cb43d\">\n",
              "    <style>\n",
              "      .colab-df-generate {\n",
              "        background-color: #E8F0FE;\n",
              "        border: none;\n",
              "        border-radius: 50%;\n",
              "        cursor: pointer;\n",
              "        display: none;\n",
              "        fill: #1967D2;\n",
              "        height: 32px;\n",
              "        padding: 0 0 0 0;\n",
              "        width: 32px;\n",
              "      }\n",
              "\n",
              "      .colab-df-generate:hover {\n",
              "        background-color: #E2EBFA;\n",
              "        box-shadow: 0px 1px 2px rgba(60, 64, 67, 0.3), 0px 1px 3px 1px rgba(60, 64, 67, 0.15);\n",
              "        fill: #174EA6;\n",
              "      }\n",
              "\n",
              "      [theme=dark] .colab-df-generate {\n",
              "        background-color: #3B4455;\n",
              "        fill: #D2E3FC;\n",
              "      }\n",
              "\n",
              "      [theme=dark] .colab-df-generate:hover {\n",
              "        background-color: #434B5C;\n",
              "        box-shadow: 0px 1px 3px 1px rgba(0, 0, 0, 0.15);\n",
              "        filter: drop-shadow(0px 1px 2px rgba(0, 0, 0, 0.3));\n",
              "        fill: #FFFFFF;\n",
              "      }\n",
              "    </style>\n",
              "    <button class=\"colab-df-generate\" onclick=\"generateWithVariable('submission')\"\n",
              "            title=\"Generate code using this dataframe.\"\n",
              "            style=\"display:none;\">\n",
              "\n",
              "  <svg xmlns=\"http://www.w3.org/2000/svg\" height=\"24px\"viewBox=\"0 0 24 24\"\n",
              "       width=\"24px\">\n",
              "    <path d=\"M7,19H8.4L18.45,9,17,7.55,7,17.6ZM5,21V16.75L18.45,3.32a2,2,0,0,1,2.83,0l1.4,1.43a1.91,1.91,0,0,1,.58,1.4,1.91,1.91,0,0,1-.58,1.4L9.25,21ZM18.45,9,17,7.55Zm-12,3A5.31,5.31,0,0,0,4.9,8.1,5.31,5.31,0,0,0,1,6.5,5.31,5.31,0,0,0,4.9,4.9,5.31,5.31,0,0,0,6.5,1,5.31,5.31,0,0,0,8.1,4.9,5.31,5.31,0,0,0,12,6.5,5.46,5.46,0,0,0,6.5,12Z\"/>\n",
              "  </svg>\n",
              "    </button>\n",
              "    <script>\n",
              "      (() => {\n",
              "      const buttonEl =\n",
              "        document.querySelector('#id_69643df8-66d6-4ce0-bb2a-6eb67e0cb43d button.colab-df-generate');\n",
              "      buttonEl.style.display =\n",
              "        google.colab.kernel.accessAllowed ? 'block' : 'none';\n",
              "\n",
              "      buttonEl.onclick = () => {\n",
              "        google.colab.notebook.generateWithVariable('submission');\n",
              "      }\n",
              "      })();\n",
              "    </script>\n",
              "  </div>\n",
              "\n",
              "    </div>\n",
              "  </div>\n"
            ],
            "application/vnd.google.colaboratory.intrinsic+json": {
              "type": "dataframe",
              "variable_name": "submission"
            }
          },
          "metadata": {},
          "execution_count": 19
        }
      ]
    },
    {
      "cell_type": "code",
      "source": [
        "submission.to_csv('/content/drive/MyDrive/Colab_Notebooks/prediccion_random_forest.csv', index=False)"
      ],
      "metadata": {
        "id": "rhOxtpZ3K15b"
      },
      "execution_count": null,
      "outputs": []
    }
  ]
}